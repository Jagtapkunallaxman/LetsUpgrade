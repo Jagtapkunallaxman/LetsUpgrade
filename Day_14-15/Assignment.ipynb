{
 "cells": [
  {
   "cell_type": "markdown",
   "metadata": {},
   "source": [
    "# Assignment"
   ]
  },
  {
   "cell_type": "code",
   "execution_count": 1,
   "metadata": {},
   "outputs": [],
   "source": [
    "import numpy as np"
   ]
  },
  {
   "cell_type": "markdown",
   "metadata": {},
   "source": [
    "## Q1. Create a 3x3x3 array with random values."
   ]
  },
  {
   "cell_type": "code",
   "execution_count": 2,
   "metadata": {},
   "outputs": [
    {
     "name": "stdout",
     "output_type": "stream",
     "text": [
      "3x3x3 Array: \n",
      "[[[0.42993632 0.29846651 0.4891575 ]\n",
      "  [0.15273436 0.51313899 0.51711861]\n",
      "  [0.56063497 0.55695265 0.56932113]]\n",
      "\n",
      " [[0.90508325 0.73717044 0.51324116]\n",
      "  [0.77009187 0.91052899 0.59619072]\n",
      "  [0.47507347 0.24384775 0.50941899]]\n",
      "\n",
      " [[0.60483692 0.734929   0.80811085]\n",
      "  [0.13515376 0.7307454  0.90695859]\n",
      "  [0.44890579 0.80606887 0.82924609]]]\n",
      "Shape: (3, 3, 3)\n"
     ]
    }
   ],
   "source": [
    "# Ans1.\n",
    "x = np.random.random((3,3,3))\n",
    "print('3x3x3 Array: ')\n",
    "print(x)\n",
    "print('Shape:',x.shape)"
   ]
  },
  {
   "cell_type": "markdown",
   "metadata": {},
   "source": [
    "## Q2. Create a 5x5 matrix with values 1,2,3,4 just below the diagonal."
   ]
  },
  {
   "cell_type": "code",
   "execution_count": 3,
   "metadata": {},
   "outputs": [
    {
     "name": "stdout",
     "output_type": "stream",
     "text": [
      "[[0. 0. 0. 0. 0.]\n",
      " [1. 0. 0. 0. 0.]\n",
      " [0. 2. 0. 0. 0.]\n",
      " [0. 0. 3. 0. 0.]\n",
      " [0. 0. 0. 4. 0.]]\n"
     ]
    }
   ],
   "source": [
    "# Ans2. \n",
    "y = np.zeros((5,5))\n",
    "for i in range(len(y)):\n",
    "    for j in range(len(y)):\n",
    "        if(i==j+1):\n",
    "            y[i][j]=i\n",
    "print(y)"
   ]
  },
  {
   "cell_type": "markdown",
   "metadata": {},
   "source": [
    "## Q3. Create a 8x8 matrix and fill it with a checkerboard pattern."
   ]
  },
  {
   "cell_type": "code",
   "execution_count": 4,
   "metadata": {},
   "outputs": [
    {
     "name": "stdout",
     "output_type": "stream",
     "text": [
      "[[0 1 0 1 0 1 0 1]\n",
      " [1 0 1 0 1 0 1 0]\n",
      " [0 1 0 1 0 1 0 1]\n",
      " [1 0 1 0 1 0 1 0]\n",
      " [0 1 0 1 0 1 0 1]\n",
      " [1 0 1 0 1 0 1 0]\n",
      " [0 1 0 1 0 1 0 1]\n",
      " [1 0 1 0 1 0 1 0]]\n"
     ]
    }
   ],
   "source": [
    "# Ans3. \n",
    "Z = np.zeros ((8,8), dtype=int)\n",
    "Z[1::2, ::2]= 1\n",
    "Z[::2, 1::2] = 1\n",
    "print (Z)"
   ]
  },
  {
   "cell_type": "markdown",
   "metadata": {},
   "source": [
    "## Q4. Normalize a 5x5 random matrix."
   ]
  },
  {
   "cell_type": "code",
   "execution_count": 5,
   "metadata": {},
   "outputs": [
    {
     "name": "stdout",
     "output_type": "stream",
     "text": [
      "Before:\n",
      "\n",
      "[[-0.47034127  0.95576896  1.21326741  0.42822577  0.94991588]\n",
      " [ 0.40569079 -0.3110939  -0.86126903  0.18169349  0.43825749]\n",
      " [ 1.62830629  1.76072151 -1.52441537 -0.23450783  0.33246948]\n",
      " [-0.14602203  0.27372682  0.28612665 -0.38444361 -0.11157757]\n",
      " [-0.59044917  0.51158147 -0.80248943 -0.00421977  1.10901153]]\n",
      "\n",
      "After:\n",
      "\n",
      "[[0.32086155 0.75497138 0.83335425 0.59438654 0.7531897 ]\n",
      " [0.58752686 0.36933666 0.20186262 0.51934179 0.59744021]\n",
      " [0.95969263 1.         0.         0.39264956 0.5652382 ]\n",
      " [0.41958475 0.54735686 0.55113138 0.34700891 0.43006969]\n",
      " [0.28430054 0.61976012 0.21975521 0.46274955 0.80161862]]\n"
     ]
    }
   ],
   "source": [
    "# Ans4.\n",
    "a = np.random.randn(5,5)\n",
    "print(\"Before:\\n\")\n",
    "print(a)\n",
    "\n",
    "amax, amin = a.max(), a.min()\n",
    "a = (a - amin)/(amax - amin)\n",
    "\n",
    "print(\"\\nAfter:\\n\")\n",
    "print(a)"
   ]
  },
  {
   "cell_type": "markdown",
   "metadata": {},
   "source": [
    "## Q5. How to find common values between two arrays?"
   ]
  },
  {
   "cell_type": "code",
   "execution_count": 6,
   "metadata": {},
   "outputs": [
    {
     "name": "stdout",
     "output_type": "stream",
     "text": [
      "Array 1:  [1 5 7 9 8 5]\n",
      "Array 2:  [6, 9, 7, 9, 5]\n",
      "Common values between two arrays: [5 7 9]\n"
     ]
    }
   ],
   "source": [
    "# Ans5.\n",
    "a1 = np.array([1,5,7,9,8,5])\n",
    "a2 = [6,9,7,9,5]\n",
    "print(\"Array 1: \", a1)\n",
    "print(\"Array 2: \", a2)\n",
    "print(\"Common values between two arrays:\", np.intersect1d(a1, a2))"
   ]
  },
  {
   "cell_type": "markdown",
   "metadata": {},
   "source": [
    "## Q6. How to get the dates of yesterday, today and tomorrow?"
   ]
  },
  {
   "cell_type": "code",
   "execution_count": 7,
   "metadata": {},
   "outputs": [
    {
     "name": "stdout",
     "output_type": "stream",
     "text": [
      "Yesterday:  2021-06-09\n",
      "Today:  2021-06-10\n",
      "Tomorrow:  2021-06-11\n"
     ]
    }
   ],
   "source": [
    "#Ans6.\n",
    "import datetime as dt\n",
    "today = dt.date.today()\n",
    "yesterday = today - dt.timedelta(days = 1)\n",
    "tomorrow = today + dt.timedelta(days = 1) \n",
    "\n",
    "print('Yesterday: ',yesterday)\n",
    "print('Today: ', today)\n",
    "print('Tomorrow: ', tomorrow)"
   ]
  },
  {
   "cell_type": "markdown",
   "metadata": {},
   "source": [
    "## Q7. Consider two random array A and B, check if they are equal."
   ]
  },
  {
   "cell_type": "code",
   "execution_count": 8,
   "metadata": {},
   "outputs": [
    {
     "name": "stdout",
     "output_type": "stream",
     "text": [
      "Array 1:\n",
      " [5 3 1 4 2]\n",
      "Array 2:\n",
      " [1 2 3 4 5]\n",
      "True if two arrays are equal\n",
      "False if two arrays are equal\n"
     ]
    },
    {
     "data": {
      "text/plain": [
       "False"
      ]
     },
     "execution_count": 8,
     "metadata": {},
     "output_type": "execute_result"
    }
   ],
   "source": [
    "# Ans7.\n",
    "a = np.array([5,3,1,4,2])\n",
    "b =  np.array([1,2,3,4,5])\n",
    "print('Array 1:\\n', a)\n",
    "print('Array 2:\\n', b)\n",
    "print('True if two arrays are equal')\n",
    "print('False if two arrays are equal')\n",
    "np.array_equal(a,b)"
   ]
  },
  {
   "cell_type": "markdown",
   "metadata": {},
   "source": [
    "## Q8. Create random vector of size 10 and replace the maximum value by 0."
   ]
  },
  {
   "cell_type": "code",
   "execution_count": 9,
   "metadata": {},
   "outputs": [
    {
     "name": "stdout",
     "output_type": "stream",
     "text": [
      "Random Vector: \n",
      "[[-1.95441988]\n",
      " [-0.00593068]\n",
      " [-0.48614536]\n",
      " [-1.0345136 ]\n",
      " [ 0.61874869]\n",
      " [ 1.58516453]\n",
      " [-0.85720418]\n",
      " [ 0.89350663]\n",
      " [ 0.21533354]\n",
      " [-0.74104771]]\n",
      "Maximum Value in the vector is:  1.5851645337942502\n",
      "Updated vector is: \n",
      "[[-1.95441988]\n",
      " [-0.00593068]\n",
      " [-0.48614536]\n",
      " [-1.0345136 ]\n",
      " [ 0.61874869]\n",
      " [ 0.        ]\n",
      " [-0.85720418]\n",
      " [ 0.89350663]\n",
      " [ 0.21533354]\n",
      " [-0.74104771]]\n"
     ]
    }
   ],
   "source": [
    "# Ans8.\n",
    "v = np.random.randn(10,1)\n",
    "print('Random Vector: ')\n",
    "print(v)\n",
    "max_val = np.amax(v)\n",
    "print('Maximum Value in the vector is: ',max_val)\n",
    "loc = np.where(v==max_val)\n",
    "v[loc] = 0\n",
    "print('Updated vector is: ')\n",
    "print(v)"
   ]
  },
  {
   "cell_type": "markdown",
   "metadata": {},
   "source": [
    "## Q9. How to print all the values of an array?"
   ]
  },
  {
   "cell_type": "code",
   "execution_count": 10,
   "metadata": {},
   "outputs": [
    {
     "name": "stdout",
     "output_type": "stream",
     "text": [
      "The array is:\n",
      "[[ 0.03113876  0.15148372  0.38581629]\n",
      " [ 0.63376208 -0.15183098 -1.32605903]\n",
      " [-0.94756558 -1.02043017  0.14486576]]\n",
      "The value at index( 0 , 0 )is: 0.031138761662818315\n",
      "The value at index( 0 , 1 )is: 0.1514837157696349\n",
      "The value at index( 0 , 2 )is: 0.3858162882555461\n",
      "The value at index( 1 , 0 )is: 0.6337620840607663\n",
      "The value at index( 1 , 1 )is: -0.15183097894648515\n",
      "The value at index( 1 , 2 )is: -1.326059033018335\n",
      "The value at index( 2 , 0 )is: -0.947565577968761\n",
      "The value at index( 2 , 1 )is: -1.020430170044196\n",
      "The value at index( 2 , 2 )is: 0.14486576095798426\n"
     ]
    }
   ],
   "source": [
    "#Ans9.\n",
    "d = np.random.randn(3,3)\n",
    "print(\"The array is:\")\n",
    "print(d)\n",
    "for i in range(len(d)):\n",
    "    for j in range(len(d)):\n",
    "        print(\"The value at index(\",i,\",\",j,\")is:\",d[i][j])"
   ]
  },
  {
   "cell_type": "markdown",
   "metadata": {},
   "source": [
    "## Q10. Subtract the mean of each row of a matrix."
   ]
  },
  {
   "cell_type": "code",
   "execution_count": 11,
   "metadata": {},
   "outputs": [
    {
     "name": "stdout",
     "output_type": "stream",
     "text": [
      "Initially:\n",
      "[[ 0.70865915  0.53454288  0.34052945]\n",
      " [-1.32262297  2.17568715 -0.33388515]\n",
      " [-0.70261386 -1.65713894  1.11208401]]\n",
      "The mean value of each row is:\n",
      "[ 0.5279105   0.17305968 -0.4158896 ]\n",
      "Matrix after mean is subtracted\n",
      "[[ 0.18074866  0.36148321  0.75641905]\n",
      " [-1.85053347  2.00262747  0.08200445]\n",
      " [-1.23052436 -1.83019862  1.52797361]]\n"
     ]
    }
   ],
   "source": [
    "# Ans10.\n",
    "arr = np.random.randn(3,3)\n",
    "print(\"Initially:\")\n",
    "print(arr)\n",
    "print(\"The mean value of each row is:\")\n",
    "arr1=np.mean(arr,axis=1)\n",
    "print(arr1)\n",
    "arr2=arr-arr1\n",
    "print(\"Matrix after mean is subtracted\")\n",
    "print(arr2)"
   ]
  },
  {
   "cell_type": "markdown",
   "metadata": {},
   "source": [
    "## Q11. Consider a given vector, how to add 1 to each element indexed by a second vector (be careful with repeated indices)?"
   ]
  },
  {
   "cell_type": "code",
   "execution_count": 12,
   "metadata": {},
   "outputs": [
    {
     "name": "stdout",
     "output_type": "stream",
     "text": [
      "Initial Vector:\n",
      " [0.90321485 0.61085112 0.47491989 0.2467867  0.37036007]\n",
      "Random Values:\n",
      " [0 1 1 0 2]\n",
      "Resultant Vector:\n",
      " [2.90321485 2.61085112 1.47491989 0.2467867  0.37036007]\n"
     ]
    }
   ],
   "source": [
    "# Ans11.\n",
    "k = np.random.rand(5)\n",
    "print(\"Initial Vector:\\n\",k)\n",
    "i = np.random.randint(0, len(k),5)\n",
    "print(\"Random Values:\\n\",i)\n",
    "k += np.bincount(i, minlength=len(k))\n",
    "print(\"Resultant Vector:\\n\",k)"
   ]
  },
  {
   "cell_type": "markdown",
   "metadata": {},
   "source": [
    "## Q12. How to get the diagonal of a dot product?"
   ]
  },
  {
   "cell_type": "code",
   "execution_count": 13,
   "metadata": {},
   "outputs": [
    {
     "name": "stdout",
     "output_type": "stream",
     "text": [
      "Array A:\n",
      " [[6 8 8]\n",
      " [0 4 3]\n",
      " [2 7 8]]\n",
      "\n",
      "Array B:\n",
      " [[3 9 3]\n",
      " [0 1 2]\n",
      " [2 3 0]]\n",
      "\n",
      "Dot product:\n",
      " [[34 86 34]\n",
      " [ 6 13  8]\n",
      " [22 49 20]]\n",
      "\n",
      "Diagonal Elements are:\n",
      " [34 13 20]\n"
     ]
    }
   ],
   "source": [
    "A = np.random.randint(0,10,(3,3))\n",
    "B= np.random.randint(0,10,(3,3))\n",
    "print(\"Array A:\\n\", A)\n",
    "print(\"\\nArray B:\\n\", B)\n",
    "print('\\nDot product:\\n',np.dot(A,B))\n",
    "dot = np.diag(np.dot(A, B))\n",
    "print('\\nDiagonal Elements are:\\n', dot)"
   ]
  },
  {
   "cell_type": "markdown",
   "metadata": {},
   "source": [
    "## Q13. How to find the most frequent value in an array?"
   ]
  },
  {
   "cell_type": "code",
   "execution_count": 14,
   "metadata": {},
   "outputs": [
    {
     "name": "stdout",
     "output_type": "stream",
     "text": [
      "[7 7 1 0 6 2 0 1 6 4 1 6 2 5 2]\n",
      "Most frequent value:  1\n"
     ]
    }
   ],
   "source": [
    "# Ans13.\n",
    "g = np.random.randint(0,10,15)\n",
    "print(g)\n",
    "print('Most frequent value: ',np.bincount(g).argmax())"
   ]
  },
  {
   "cell_type": "markdown",
   "metadata": {},
   "source": [
    "## Q14. How to get the n largest values of an array?"
   ]
  },
  {
   "cell_type": "code",
   "execution_count": 15,
   "metadata": {},
   "outputs": [
    {
     "name": "stdout",
     "output_type": "stream",
     "text": [
      "Enter the value of n: 5\n",
      "[99 97 98 96 95]\n"
     ]
    }
   ],
   "source": [
    "# Ans14.\n",
    "s = np.arange(100)\n",
    "np.random.shuffle(s)\n",
    "n = int(input('Enter the value of n: '))\n",
    "print (s[np.argpartition(-s,n)[:n]])"
   ]
  },
  {
   "cell_type": "markdown",
   "metadata": {},
   "source": [
    "## Q15. How to create a record array from a regular array?"
   ]
  },
  {
   "cell_type": "code",
   "execution_count": 16,
   "metadata": {},
   "outputs": [
    {
     "name": "stdout",
     "output_type": "stream",
     "text": [
      "Regular Array 1: ['T' 'A' 'V' 'I' 'S' 'H']\n",
      "Regular Array 2: [1 2 3 4 5 6]\n",
      "\n",
      "Recorded Array: [('T', 1) ('A', 2) ('V', 3) ('I', 4) ('S', 5) ('H', 6)]\n"
     ]
    }
   ],
   "source": [
    "# Ans15.\n",
    "x1 = np.array(['T','A','V','I','S','H'])\n",
    "x2 = np.array([1,2,3,4,5,6])\n",
    "\n",
    "print('Regular Array 1:',x1)\n",
    "print('Regular Array 2:',x2)\n",
    "\n",
    "records = np.core.records.fromarrays([x1,x2], names='Col1, Col2') # The arrays are now transposed \n",
    "\n",
    "print('\\nRecorded Array:', records)"
   ]
  },
  {
   "cell_type": "code",
   "execution_count": null,
   "metadata": {},
   "outputs": [],
   "source": []
  }
 ],
 "metadata": {
  "kernelspec": {
   "display_name": "Python 3",
   "language": "python",
   "name": "python3"
  },
  "language_info": {
   "codemirror_mode": {
    "name": "ipython",
    "version": 3
   },
   "file_extension": ".py",
   "mimetype": "text/x-python",
   "name": "python",
   "nbconvert_exporter": "python",
   "pygments_lexer": "ipython3",
   "version": "3.8.5"
  }
 },
 "nbformat": 4,
 "nbformat_minor": 4
}
