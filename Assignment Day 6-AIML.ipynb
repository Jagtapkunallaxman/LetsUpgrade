{
 "cells": [
  {
   "cell_type": "markdown",
   "metadata": {},
   "source": [
    "# Question 1"
   ]
  },
  {
   "cell_type": "code",
   "execution_count": 1,
   "metadata": {},
   "outputs": [
    {
     "name": "stdout",
     "output_type": "stream",
     "text": [
      "Enter the Email Address: john@google.com\n",
      "Output: google\n"
     ]
    }
   ],
   "source": [
    "# program to print the company name of a given email address.\n",
    "def print_company(st):\n",
    "    print(\"Output:\",st.split('@')[1].split('.')[0])\n",
    "\n",
    "print_company(input(\"Enter the Email Address: \"))"
   ]
  },
  {
   "cell_type": "markdown",
   "metadata": {},
   "source": [
    "# Question 2"
   ]
  },
  {
   "cell_type": "code",
   "execution_count": 2,
   "metadata": {},
   "outputs": [
    {
     "name": "stdout",
     "output_type": "stream",
     "text": [
      "Enter the words separated by comma: without,hello,bag,world\n",
      "Output: bag,hello,without,world\n"
     ]
    }
   ],
   "source": [
    "'''\n",
    "program that accepts a comma-separated sequence of words as input and prints the words in a comma\n",
    "separated sequence after sorting them alphabetically.\n",
    "'''\n",
    "w=input(\"Enter the words separated by comma: \")\n",
    "w=w.split(\",\")\n",
    "w=sorted(w)\n",
    "w=\",\".join(w)\n",
    "print(\"Output:\",w)"
   ]
  },
  {
   "cell_type": "markdown",
   "metadata": {},
   "source": [
    "# Question 3"
   ]
  },
  {
   "cell_type": "markdown",
   "metadata": {},
   "source": [
    "## Sets"
   ]
  },
  {
   "cell_type": "markdown",
   "metadata": {},
   "source": [
    "A set is a collection which is unordered and unindexed. Sets are unordered, so you cannot be sure in which order the items will appear.\n",
    "\n",
    "We can't access items in a set by referring to an index, since sets are unordered the items has no index.\n",
    "\n",
    "We can loop through the set items using a 'for' loop, or ask if a specified value is present in a set, by using the 'in' keyword.\n",
    "\n",
    "Once a set is created, we cannot change its items, but we can add new items.\n",
    "\n",
    "To add one item to a set use the add() method. To add more than one item to a set use the update() method.\n",
    "\n",
    "To determine how many items a set has, use the len() method.\n",
    "\n",
    "To remove an item in a set, use the remove(), or the discard() method. If the item to remove does not exist, remove() will raise an error. If the item to remove does not exist, discard() will NOT raise an error.\n",
    "\n",
    "We can also use the pop(), method to remove an item, but this method will remove the last item. Remember that sets are unordered, so we will not know what item that gets removed. The return value of the pop() method is the removed item.\n",
    "\n",
    "The clear() method empties the set. The del keyword will delete the set completely.\n",
    "\n",
    "To join 2 Sets: We can use the union() method that returns a new set containing all items from both sets, or the update() method that inserts all the items from one set into another. Both union() and update() will exclude any duplicate items.\n",
    "\n",
    "Set can be created by using the set() constructor."
   ]
  },
  {
   "cell_type": "code",
   "execution_count": 3,
   "metadata": {},
   "outputs": [
    {
     "name": "stdout",
     "output_type": "stream",
     "text": [
      "{1, 'abc', 'def'}\n"
     ]
    }
   ],
   "source": [
    "s = {\"abc\",\"def\",1}\n",
    "print(s)"
   ]
  },
  {
   "cell_type": "code",
   "execution_count": 4,
   "metadata": {},
   "outputs": [
    {
     "name": "stdout",
     "output_type": "stream",
     "text": [
      "1 abc def "
     ]
    }
   ],
   "source": [
    "for i in s:\n",
    "    print(i,end=\" \")"
   ]
  },
  {
   "cell_type": "code",
   "execution_count": 5,
   "metadata": {},
   "outputs": [
    {
     "name": "stdout",
     "output_type": "stream",
     "text": [
      "True\n",
      "False\n"
     ]
    }
   ],
   "source": [
    "print(1 in s) # 1 is present\n",
    "print(2 in s) # 2 is absent"
   ]
  },
  {
   "cell_type": "code",
   "execution_count": 6,
   "metadata": {},
   "outputs": [
    {
     "name": "stdout",
     "output_type": "stream",
     "text": [
      "{1, 'abc', 'def', 'xyz'}\n"
     ]
    }
   ],
   "source": [
    "s.add(\"xyz\")\n",
    "print(s)"
   ]
  },
  {
   "cell_type": "code",
   "execution_count": 7,
   "metadata": {},
   "outputs": [
    {
     "name": "stdout",
     "output_type": "stream",
     "text": [
      "{1, 'def', 'y', 'xyz', 's', 'u', 'l', 'abc'}\n"
     ]
    }
   ],
   "source": [
    "s.update(\"lu\",\"y\",\"ss\")\n",
    "print(s)"
   ]
  },
  {
   "cell_type": "code",
   "execution_count": 8,
   "metadata": {},
   "outputs": [
    {
     "name": "stdout",
     "output_type": "stream",
     "text": [
      "8\n"
     ]
    }
   ],
   "source": [
    "print(len(s))"
   ]
  },
  {
   "cell_type": "code",
   "execution_count": 9,
   "metadata": {},
   "outputs": [
    {
     "name": "stdout",
     "output_type": "stream",
     "text": [
      "{1, 'def', 'y', 'xyz', 's', 'l', 'abc'}\n"
     ]
    }
   ],
   "source": [
    "s.remove(\"u\")\n",
    "print(s)"
   ]
  },
  {
   "cell_type": "code",
   "execution_count": 10,
   "metadata": {},
   "outputs": [
    {
     "name": "stdout",
     "output_type": "stream",
     "text": [
      "{1, 'def', 'xyz', 's', 'l', 'abc'}\n"
     ]
    }
   ],
   "source": [
    "s.discard(\"y\")\n",
    "print(s)"
   ]
  },
  {
   "cell_type": "code",
   "execution_count": 11,
   "metadata": {},
   "outputs": [
    {
     "ename": "KeyError",
     "evalue": "'y'",
     "output_type": "error",
     "traceback": [
      "\u001b[1;31m---------------------------------------------------------------------------\u001b[0m",
      "\u001b[1;31mKeyError\u001b[0m                                  Traceback (most recent call last)",
      "\u001b[1;32m<ipython-input-11-6932fad6b3b2>\u001b[0m in \u001b[0;36m<module>\u001b[1;34m\u001b[0m\n\u001b[1;32m----> 1\u001b[1;33m \u001b[0ms\u001b[0m\u001b[1;33m.\u001b[0m\u001b[0mremove\u001b[0m\u001b[1;33m(\u001b[0m\u001b[1;34m\"y\"\u001b[0m\u001b[1;33m)\u001b[0m \u001b[1;31m#gives error\u001b[0m\u001b[1;33m\u001b[0m\u001b[1;33m\u001b[0m\u001b[0m\n\u001b[0m",
      "\u001b[1;31mKeyError\u001b[0m: 'y'"
     ]
    }
   ],
   "source": [
    "s.remove(\"y\") #gives error"
   ]
  },
  {
   "cell_type": "code",
   "execution_count": 12,
   "metadata": {},
   "outputs": [],
   "source": [
    "s.discard(\"y\") #no error"
   ]
  },
  {
   "cell_type": "code",
   "execution_count": 13,
   "metadata": {},
   "outputs": [
    {
     "name": "stdout",
     "output_type": "stream",
     "text": [
      "1\n",
      "{'def', 'xyz', 's', 'l', 'abc'}\n"
     ]
    }
   ],
   "source": [
    "x=s.pop()\n",
    "print(x)\n",
    "print(s)"
   ]
  },
  {
   "cell_type": "code",
   "execution_count": 14,
   "metadata": {},
   "outputs": [
    {
     "name": "stdout",
     "output_type": "stream",
     "text": [
      "set()\n"
     ]
    }
   ],
   "source": [
    "s.clear()\n",
    "print(s)"
   ]
  },
  {
   "cell_type": "code",
   "execution_count": 15,
   "metadata": {},
   "outputs": [
    {
     "name": "stdout",
     "output_type": "stream",
     "text": [
      "{1, 2, 3, 4}\n"
     ]
    },
    {
     "ename": "NameError",
     "evalue": "name 's1' is not defined",
     "output_type": "error",
     "traceback": [
      "\u001b[1;31m---------------------------------------------------------------------------\u001b[0m",
      "\u001b[1;31mNameError\u001b[0m                                 Traceback (most recent call last)",
      "\u001b[1;32m<ipython-input-15-bd832d631841>\u001b[0m in \u001b[0;36m<module>\u001b[1;34m\u001b[0m\n\u001b[0;32m      2\u001b[0m \u001b[0mprint\u001b[0m\u001b[1;33m(\u001b[0m\u001b[0ms1\u001b[0m\u001b[1;33m)\u001b[0m\u001b[1;33m\u001b[0m\u001b[1;33m\u001b[0m\u001b[0m\n\u001b[0;32m      3\u001b[0m \u001b[1;32mdel\u001b[0m \u001b[0ms1\u001b[0m\u001b[1;33m\u001b[0m\u001b[1;33m\u001b[0m\u001b[0m\n\u001b[1;32m----> 4\u001b[1;33m \u001b[0mprint\u001b[0m\u001b[1;33m(\u001b[0m\u001b[0ms1\u001b[0m\u001b[1;33m)\u001b[0m \u001b[1;31m#raise an error due to file not exists\u001b[0m\u001b[1;33m\u001b[0m\u001b[1;33m\u001b[0m\u001b[0m\n\u001b[0m",
      "\u001b[1;31mNameError\u001b[0m: name 's1' is not defined"
     ]
    }
   ],
   "source": [
    "s1={1,2,3,4}\n",
    "print(s1)\n",
    "del s1\n",
    "print(s1) #raise an error due to file not exists"
   ]
  },
  {
   "cell_type": "code",
   "execution_count": 16,
   "metadata": {},
   "outputs": [
    {
     "name": "stdout",
     "output_type": "stream",
     "text": [
      "{2, 'x', 4, 6, 'a', 'h'}\n"
     ]
    }
   ],
   "source": [
    "s1 = {\"h\",\"x\",\"a\"}\n",
    "s2 = {6,2,4}\n",
    "s3 = s1.union(s2)\n",
    "print(s3)"
   ]
  },
  {
   "cell_type": "code",
   "execution_count": 17,
   "metadata": {},
   "outputs": [
    {
     "name": "stdout",
     "output_type": "stream",
     "text": [
      "{'a', 'h', 'x'}\n",
      "{2, 'x', 4, 6, 'a', 'h'}\n"
     ]
    }
   ],
   "source": [
    "print(s1)\n",
    "s1.update(s2)\n",
    "print(s1)"
   ]
  },
  {
   "cell_type": "code",
   "execution_count": 18,
   "metadata": {},
   "outputs": [
    {
     "name": "stdout",
     "output_type": "stream",
     "text": [
      "{'cc', 'sss', 'aaa'}\n"
     ]
    }
   ],
   "source": [
    "s4 = set((\"sss\", \"aaa\", \"cc\"))\n",
    "print(s4)"
   ]
  },
  {
   "cell_type": "markdown",
   "metadata": {},
   "source": [
    "# Question 4"
   ]
  },
  {
   "cell_type": "code",
   "execution_count": 19,
   "metadata": {},
   "outputs": [
    {
     "name": "stdout",
     "output_type": "stream",
     "text": [
      "Enter the numbers seperated by space: 1 2 4 6 3 7 8\n",
      "Output: 5\n"
     ]
    }
   ],
   "source": [
    "# Program: Given a list of n-1 numbers ranging from 1 to n, your task is to find the missing number. There are no duplicates.\n",
    "def missed(x):\n",
    "    y=x.count(\" \")\n",
    "    for i in range(y):\n",
    "        x.remove(\" \")\n",
    "    x=[int(i) for i in x]\n",
    "    x.sort()\n",
    "    n=len(x)\n",
    "    total=int((n+1)*(n+2)/2)\n",
    "    sum_x=sum(x)\n",
    "    return total-sum_x\n",
    "\n",
    "x=list(input(\"Enter the numbers seperated by space: \"))\n",
    "missing_number=missed(x)\n",
    "print(\"Output:\",missing_number)"
   ]
  },
  {
   "cell_type": "markdown",
   "metadata": {},
   "source": [
    "# Question 5"
   ]
  },
  {
   "cell_type": "code",
   "execution_count": 20,
   "metadata": {},
   "outputs": [
    {
     "name": "stdout",
     "output_type": "stream",
     "text": [
      "Enter elements in the list: 12 24 35 24 88 120 155 88 120 155\n",
      "Output: 12 24 35 88 120 155\n"
     ]
    }
   ],
   "source": [
    "# write a program to print this list L after removing all duplicate values with original order reserved.\n",
    "l1=input(\"Enter elements in the list: \").split()\n",
    "l2=[]\n",
    "for i in l1:\n",
    "    if i not in l2:\n",
    "        l2.append(i)\n",
    "print(\"Output:\",*l2)"
   ]
  },
  {
   "cell_type": "code",
   "execution_count": null,
   "metadata": {},
   "outputs": [],
   "source": []
  }
 ],
 "metadata": {
  "kernelspec": {
   "display_name": "Python 3",
   "language": "python",
   "name": "python3"
  },
  "language_info": {
   "codemirror_mode": {
    "name": "ipython",
    "version": 3
   },
   "file_extension": ".py",
   "mimetype": "text/x-python",
   "name": "python",
   "nbconvert_exporter": "python",
   "pygments_lexer": "ipython3",
   "version": "3.8.3"
  }
 },
 "nbformat": 4,
 "nbformat_minor": 4
}
